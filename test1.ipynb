{
 "cells": [
  {
   "cell_type": "code",
   "execution_count": 1,
   "metadata": {},
   "outputs": [],
   "source": [
    "\n",
    "import numpy as np\n",
    "import matplotlib.pyplot as plt\n",
    "import pandas as pd\n",
    "\n"
   ]
  },
  {
   "cell_type": "code",
   "execution_count": 2,
   "metadata": {},
   "outputs": [
    {
     "data": {
      "text/html": [
       "<div>\n",
       "<style scoped>\n",
       "    .dataframe tbody tr th:only-of-type {\n",
       "        vertical-align: middle;\n",
       "    }\n",
       "\n",
       "    .dataframe tbody tr th {\n",
       "        vertical-align: top;\n",
       "    }\n",
       "\n",
       "    .dataframe thead th {\n",
       "        text-align: right;\n",
       "    }\n",
       "</style>\n",
       "<table border=\"1\" class=\"dataframe\">\n",
       "  <thead>\n",
       "    <tr style=\"text-align: right;\">\n",
       "      <th></th>\n",
       "      <th>product_id</th>\n",
       "      <th>product_name</th>\n",
       "      <th>category</th>\n",
       "      <th>discounted_price</th>\n",
       "      <th>actual_price</th>\n",
       "      <th>discount_percentage</th>\n",
       "      <th>rating</th>\n",
       "      <th>rating_count</th>\n",
       "      <th>about_product</th>\n",
       "      <th>user_id</th>\n",
       "      <th>user_name</th>\n",
       "      <th>review_id</th>\n",
       "      <th>review_title</th>\n",
       "      <th>review_content</th>\n",
       "      <th>img_link</th>\n",
       "      <th>product_link</th>\n",
       "    </tr>\n",
       "  </thead>\n",
       "  <tbody>\n",
       "    <tr>\n",
       "      <th>0</th>\n",
       "      <td>B07JW9H4J1</td>\n",
       "      <td>Wayona Nylon Braided USB to Lightning Fast Cha...</td>\n",
       "      <td>Computers&amp;Accessories|Accessories&amp;Peripherals|...</td>\n",
       "      <td>â¹399</td>\n",
       "      <td>â¹1,099</td>\n",
       "      <td>64%</td>\n",
       "      <td>4.2</td>\n",
       "      <td>24,269</td>\n",
       "      <td>High Compatibility : Compatible With iPhone 12...</td>\n",
       "      <td>AG3D6O4STAQKAY2UVGEUV46KN35Q,AHMY5CWJMMK5BJRBB...</td>\n",
       "      <td>Manav,Adarsh gupta,Sundeep,S.Sayeed Ahmed,jasp...</td>\n",
       "      <td>R3HXWT0LRP0NMF,R2AJM3LFTLZHFO,R6AQJGUP6P86,R1K...</td>\n",
       "      <td>Satisfied,Charging is really fast,Value for mo...</td>\n",
       "      <td>Looks durable Charging is fine tooNo complains...</td>\n",
       "      <td>https://m.media-amazon.com/images/W/WEBP_40237...</td>\n",
       "      <td>https://www.amazon.in/Wayona-Braided-WN3LG1-Sy...</td>\n",
       "    </tr>\n",
       "    <tr>\n",
       "      <th>1</th>\n",
       "      <td>B098NS6PVG</td>\n",
       "      <td>Ambrane Unbreakable 60W / 3A Fast Charging 1.5...</td>\n",
       "      <td>Computers&amp;Accessories|Accessories&amp;Peripherals|...</td>\n",
       "      <td>â¹199</td>\n",
       "      <td>â¹349</td>\n",
       "      <td>43%</td>\n",
       "      <td>4.0</td>\n",
       "      <td>43,994</td>\n",
       "      <td>Compatible with all Type C enabled devices, be...</td>\n",
       "      <td>AECPFYFQVRUWC3KGNLJIOREFP5LQ,AGYYVPDD7YG7FYNBX...</td>\n",
       "      <td>ArdKn,Nirbhay kumar,Sagar Viswanathan,Asp,Plac...</td>\n",
       "      <td>RGIQEG07R9HS2,R1SMWZQ86XIN8U,R2J3Y1WL29GWDE,RY...</td>\n",
       "      <td>A Good Braided Cable for Your Type C Device,Go...</td>\n",
       "      <td>I ordered this cable to connect my phone to An...</td>\n",
       "      <td>https://m.media-amazon.com/images/W/WEBP_40237...</td>\n",
       "      <td>https://www.amazon.in/Ambrane-Unbreakable-Char...</td>\n",
       "    </tr>\n",
       "    <tr>\n",
       "      <th>2</th>\n",
       "      <td>B096MSW6CT</td>\n",
       "      <td>Sounce Fast Phone Charging Cable &amp; Data Sync U...</td>\n",
       "      <td>Computers&amp;Accessories|Accessories&amp;Peripherals|...</td>\n",
       "      <td>â¹199</td>\n",
       "      <td>â¹1,899</td>\n",
       "      <td>90%</td>\n",
       "      <td>3.9</td>\n",
       "      <td>7,928</td>\n",
       "      <td>ã Fast Charger&amp; Data Syncã-With built-in s...</td>\n",
       "      <td>AGU3BBQ2V2DDAMOAKGFAWDDQ6QHA,AESFLDV2PT363T2AQ...</td>\n",
       "      <td>Kunal,Himanshu,viswanath,sai niharka,saqib mal...</td>\n",
       "      <td>R3J3EQQ9TZI5ZJ,R3E7WBGK7ID0KV,RWU79XKQ6I1QF,R2...</td>\n",
       "      <td>Good speed for earlier versions,Good Product,W...</td>\n",
       "      <td>Not quite durable and sturdy,https://m.media-a...</td>\n",
       "      <td>https://m.media-amazon.com/images/W/WEBP_40237...</td>\n",
       "      <td>https://www.amazon.in/Sounce-iPhone-Charging-C...</td>\n",
       "    </tr>\n",
       "    <tr>\n",
       "      <th>3</th>\n",
       "      <td>B08HDJ86NZ</td>\n",
       "      <td>boAt Deuce USB 300 2 in 1 Type-C &amp; Micro USB S...</td>\n",
       "      <td>Computers&amp;Accessories|Accessories&amp;Peripherals|...</td>\n",
       "      <td>â¹329</td>\n",
       "      <td>â¹699</td>\n",
       "      <td>53%</td>\n",
       "      <td>4.2</td>\n",
       "      <td>94,363</td>\n",
       "      <td>The boAt Deuce USB 300 2 in 1 cable is compati...</td>\n",
       "      <td>AEWAZDZZJLQUYVOVGBEUKSLXHQ5A,AG5HTSFRRE6NL3M5S...</td>\n",
       "      <td>Omkar dhale,JD,HEMALATHA,Ajwadh a.,amar singh ...</td>\n",
       "      <td>R3EEUZKKK9J36I,R3HJVYCLYOY554,REDECAZ7AMPQC,R1...</td>\n",
       "      <td>Good product,Good one,Nice,Really nice product...</td>\n",
       "      <td>Good product,long wire,Charges good,Nice,I bou...</td>\n",
       "      <td>https://m.media-amazon.com/images/I/41V5FtEWPk...</td>\n",
       "      <td>https://www.amazon.in/Deuce-300-Resistant-Tang...</td>\n",
       "    </tr>\n",
       "    <tr>\n",
       "      <th>4</th>\n",
       "      <td>B08CF3B7N1</td>\n",
       "      <td>Portronics Konnect L 1.2M Fast Charging 3A 8 P...</td>\n",
       "      <td>Computers&amp;Accessories|Accessories&amp;Peripherals|...</td>\n",
       "      <td>â¹154</td>\n",
       "      <td>â¹399</td>\n",
       "      <td>61%</td>\n",
       "      <td>4.2</td>\n",
       "      <td>16,905</td>\n",
       "      <td>[CHARGE &amp; SYNC FUNCTION]- This cable comes wit...</td>\n",
       "      <td>AE3Q6KSUK5P75D5HFYHCRAOLODSA,AFUGIFH5ZAFXRDSZH...</td>\n",
       "      <td>rahuls6099,Swasat Borah,Ajay Wadke,Pranali,RVK...</td>\n",
       "      <td>R1BP4L2HH9TFUP,R16PVJEXKV6QZS,R2UPDB81N66T4P,R...</td>\n",
       "      <td>As good as original,Decent,Good one for second...</td>\n",
       "      <td>Bought this instead of original apple, does th...</td>\n",
       "      <td>https://m.media-amazon.com/images/W/WEBP_40237...</td>\n",
       "      <td>https://www.amazon.in/Portronics-Konnect-POR-1...</td>\n",
       "    </tr>\n",
       "  </tbody>\n",
       "</table>\n",
       "</div>"
      ],
      "text/plain": [
       "   product_id                                       product_name  \\\n",
       "0  B07JW9H4J1  Wayona Nylon Braided USB to Lightning Fast Cha...   \n",
       "1  B098NS6PVG  Ambrane Unbreakable 60W / 3A Fast Charging 1.5...   \n",
       "2  B096MSW6CT  Sounce Fast Phone Charging Cable & Data Sync U...   \n",
       "3  B08HDJ86NZ  boAt Deuce USB 300 2 in 1 Type-C & Micro USB S...   \n",
       "4  B08CF3B7N1  Portronics Konnect L 1.2M Fast Charging 3A 8 P...   \n",
       "\n",
       "                                            category discounted_price  \\\n",
       "0  Computers&Accessories|Accessories&Peripherals|...           â¹399   \n",
       "1  Computers&Accessories|Accessories&Peripherals|...           â¹199   \n",
       "2  Computers&Accessories|Accessories&Peripherals|...           â¹199   \n",
       "3  Computers&Accessories|Accessories&Peripherals|...           â¹329   \n",
       "4  Computers&Accessories|Accessories&Peripherals|...           â¹154   \n",
       "\n",
       "  actual_price discount_percentage rating rating_count  \\\n",
       "0     â¹1,099                 64%    4.2       24,269   \n",
       "1       â¹349                 43%    4.0       43,994   \n",
       "2     â¹1,899                 90%    3.9        7,928   \n",
       "3       â¹699                 53%    4.2       94,363   \n",
       "4       â¹399                 61%    4.2       16,905   \n",
       "\n",
       "                                       about_product  \\\n",
       "0  High Compatibility : Compatible With iPhone 12...   \n",
       "1  Compatible with all Type C enabled devices, be...   \n",
       "2  ã Fast Charger& Data Syncã-With built-in s...   \n",
       "3  The boAt Deuce USB 300 2 in 1 cable is compati...   \n",
       "4  [CHARGE & SYNC FUNCTION]- This cable comes wit...   \n",
       "\n",
       "                                             user_id  \\\n",
       "0  AG3D6O4STAQKAY2UVGEUV46KN35Q,AHMY5CWJMMK5BJRBB...   \n",
       "1  AECPFYFQVRUWC3KGNLJIOREFP5LQ,AGYYVPDD7YG7FYNBX...   \n",
       "2  AGU3BBQ2V2DDAMOAKGFAWDDQ6QHA,AESFLDV2PT363T2AQ...   \n",
       "3  AEWAZDZZJLQUYVOVGBEUKSLXHQ5A,AG5HTSFRRE6NL3M5S...   \n",
       "4  AE3Q6KSUK5P75D5HFYHCRAOLODSA,AFUGIFH5ZAFXRDSZH...   \n",
       "\n",
       "                                           user_name  \\\n",
       "0  Manav,Adarsh gupta,Sundeep,S.Sayeed Ahmed,jasp...   \n",
       "1  ArdKn,Nirbhay kumar,Sagar Viswanathan,Asp,Plac...   \n",
       "2  Kunal,Himanshu,viswanath,sai niharka,saqib mal...   \n",
       "3  Omkar dhale,JD,HEMALATHA,Ajwadh a.,amar singh ...   \n",
       "4  rahuls6099,Swasat Borah,Ajay Wadke,Pranali,RVK...   \n",
       "\n",
       "                                           review_id  \\\n",
       "0  R3HXWT0LRP0NMF,R2AJM3LFTLZHFO,R6AQJGUP6P86,R1K...   \n",
       "1  RGIQEG07R9HS2,R1SMWZQ86XIN8U,R2J3Y1WL29GWDE,RY...   \n",
       "2  R3J3EQQ9TZI5ZJ,R3E7WBGK7ID0KV,RWU79XKQ6I1QF,R2...   \n",
       "3  R3EEUZKKK9J36I,R3HJVYCLYOY554,REDECAZ7AMPQC,R1...   \n",
       "4  R1BP4L2HH9TFUP,R16PVJEXKV6QZS,R2UPDB81N66T4P,R...   \n",
       "\n",
       "                                        review_title  \\\n",
       "0  Satisfied,Charging is really fast,Value for mo...   \n",
       "1  A Good Braided Cable for Your Type C Device,Go...   \n",
       "2  Good speed for earlier versions,Good Product,W...   \n",
       "3  Good product,Good one,Nice,Really nice product...   \n",
       "4  As good as original,Decent,Good one for second...   \n",
       "\n",
       "                                      review_content  \\\n",
       "0  Looks durable Charging is fine tooNo complains...   \n",
       "1  I ordered this cable to connect my phone to An...   \n",
       "2  Not quite durable and sturdy,https://m.media-a...   \n",
       "3  Good product,long wire,Charges good,Nice,I bou...   \n",
       "4  Bought this instead of original apple, does th...   \n",
       "\n",
       "                                            img_link  \\\n",
       "0  https://m.media-amazon.com/images/W/WEBP_40237...   \n",
       "1  https://m.media-amazon.com/images/W/WEBP_40237...   \n",
       "2  https://m.media-amazon.com/images/W/WEBP_40237...   \n",
       "3  https://m.media-amazon.com/images/I/41V5FtEWPk...   \n",
       "4  https://m.media-amazon.com/images/W/WEBP_40237...   \n",
       "\n",
       "                                        product_link  \n",
       "0  https://www.amazon.in/Wayona-Braided-WN3LG1-Sy...  \n",
       "1  https://www.amazon.in/Ambrane-Unbreakable-Char...  \n",
       "2  https://www.amazon.in/Sounce-iPhone-Charging-C...  \n",
       "3  https://www.amazon.in/Deuce-300-Resistant-Tang...  \n",
       "4  https://www.amazon.in/Portronics-Konnect-POR-1...  "
      ]
     },
     "execution_count": 2,
     "metadata": {},
     "output_type": "execute_result"
    }
   ],
   "source": [
    "\n",
    "# Load the dataset\n",
    "file_path = r\"amazon.csv\"\n",
    "amazon_df = pd.read_csv(file_path, encoding=\"iso-8859-1\")\n",
    "\n",
    "# Display the first few rows of the dataset to understand its structure\n",
    "amazon_df.head()\n",
    "\n",
    "\n",
    "\n"
   ]
  },
  {
   "cell_type": "code",
   "execution_count": 3,
   "metadata": {},
   "outputs": [],
   "source": [
    "noise_list = [\"is\", \"a\", \"this\", \"...\"]\n",
    "\n",
    "def _remove_noise(input_text):\n",
    "    words = input_text.split()\n",
    "    noise_free_words = [word for word in words if word not in noise_list]\n",
    "    noise_free_text = \" \".join(noise_free_words)\n",
    "    return noise_free_text\n"
   ]
  },
  {
   "cell_type": "code",
   "execution_count": 4,
   "metadata": {},
   "outputs": [
    {
     "data": {
      "text/plain": [
       "0    looks durable charging is fine toono complains...\n",
       "1    i ordered this cable to connect my phone to an...\n",
       "2    not quite durable and sturdy,https://m.media-a...\n",
       "3    good product,long wire,charges good,nice,i bou...\n",
       "4    bought this instead of original apple, does th...\n",
       "Name: review_content, dtype: object"
      ]
     },
     "execution_count": 4,
     "metadata": {},
     "output_type": "execute_result"
    }
   ],
   "source": [
    "# Lower Case\n",
    "amazon_df['review_content'] = amazon_df['review_content']\\\n",
    "            .apply(lambda x: \" \".join(x.lower() for x in x.split()))\n",
    "amazon_df['review_content'].head()"
   ]
  },
  {
   "cell_type": "code",
   "execution_count": 5,
   "metadata": {},
   "outputs": [
    {
     "data": {
      "text/plain": [
       "0    looks durable charging is fine toono complains...\n",
       "1    i ordered this cable to connect my phone to an...\n",
       "2    not quite durable and sturdy good nice product...\n",
       "3    good productlong wirecharges goodnicei bought ...\n",
       "4    bought this instead of original apple does the...\n",
       "Name: review_content, dtype: object"
      ]
     },
     "execution_count": 5,
     "metadata": {},
     "output_type": "execute_result"
    }
   ],
   "source": [
    "import re\n",
    "\n",
    "# Function to remove punctuation and URLs\n",
    "def clean_text(text):\n",
    "    text = re.sub(r'http\\S+', '', text)  # Remove URLs\n",
    "    text = re.sub(r'[^\\w\\s]', '', text)  # Remove punctuation\n",
    "    return text\n",
    "\n",
    "# Apply the function to the review_content column\n",
    "amazon_df['review_content'] = amazon_df['review_content'].apply(clean_text)\n",
    "amazon_df['review_content'].head()\n"
   ]
  },
  {
   "cell_type": "code",
   "execution_count": 6,
   "metadata": {},
   "outputs": [
    {
     "data": {
      "text/plain": [
       "0    looks durable charging fine toono complainscha...\n",
       "1    ordered cable connect phone android auto car c...\n",
       "2    quite durable sturdy good nice productworking ...\n",
       "3    good productlong wirecharges goodnicei bought ...\n",
       "4    bought instead original apple work 150rs fast ...\n",
       "Name: review_content, dtype: object"
      ]
     },
     "execution_count": 6,
     "metadata": {},
     "output_type": "execute_result"
    }
   ],
   "source": [
    "# Removing Stopwords\n",
    "from nltk.corpus import stopwords\n",
    "stop = stopwords.words('english')\n",
    "amazon_df['review_content'] = amazon_df['review_content']\\\n",
    "            .apply(lambda x: \" \".join(x for x in x.split() if x not in stop))\n",
    "amazon_df['review_content'].head()"
   ]
  },
  {
   "cell_type": "code",
   "execution_count": 7,
   "metadata": {},
   "outputs": [
    {
     "name": "stdout",
     "output_type": "stream",
     "text": [
      "looks durable charging fine toono complainscharging really fast good producttill satisfied qualitythis good product charging speed slower original iphone cablegood quality would recommend worked well till date issuecable also sturdy enoughhave asked replacement company samevalue money\n",
      "['looks', 'durable', 'charging', 'fine', 'toono', 'complainscharging', 'really', 'fast', 'good', 'producttill', 'satisfied', 'qualitythis', 'good', 'product', 'charging', 'speed', 'slower', 'original', 'iphone', 'cablegood', 'quality', 'would', 'recommend', 'worked', 'well', 'till', 'date', 'issuecable', 'also', 'sturdy', 'enoughhave', 'asked', 'replacement', 'company', 'samevalue', 'money']\n"
     ]
    }
   ],
   "source": [
    "# Word Tokenization\n",
    "from nltk.tokenize import word_tokenize\n",
    "\n",
    "print(amazon_df['review_content'].iloc[0])\n",
    "tokens = word_tokenize(amazon_df['review_content'].iloc[0])\n",
    "print(tokens)"
   ]
  },
  {
   "cell_type": "code",
   "execution_count": 8,
   "metadata": {},
   "outputs": [
    {
     "data": {
      "text/plain": [
       "[('charging', 2), ('good', 2)]"
      ]
     },
     "execution_count": 8,
     "metadata": {},
     "output_type": "execute_result"
    }
   ],
   "source": [
    "# Frequency Distribution\n",
    "from nltk.probability import FreqDist\n",
    "\n",
    "fdist = FreqDist(tokens)\n",
    "fdist.most_common(2)"
   ]
  },
  {
   "cell_type": "code",
   "execution_count": 9,
   "metadata": {},
   "outputs": [
    {
     "data": {
      "image/png": "[encoded data removed]",
      "text/plain": [
       "<Figure size 640x480 with 1 Axes>"
      ]
     },
     "metadata": {},
     "output_type": "display_data"
    }
   ],
   "source": [
    "# Frequency Distribution Plot\n",
    "import matplotlib.pyplot as plt\n",
    "fdist.plot(30, cumulative=False)\n",
    "plt.show()"
   ]
  },
  {
   "cell_type": "code",
   "execution_count": 10,
   "metadata": {},
   "outputs": [
    {
     "data": {
      "text/plain": [
       "0    look durabl charg fine toono complainscharg re...\n",
       "1    order cabl connect phone android auto car cabl...\n",
       "2    quit durabl sturdi good nice productwork welli...\n",
       "3    good productlong wirecharg goodnicei bought ca...\n",
       "4    bought instead origin appl work 150r fast appl...\n",
       "Name: review_content, dtype: object"
      ]
     },
     "execution_count": 10,
     "metadata": {},
     "output_type": "execute_result"
    }
   ],
   "source": [
    "# Stemming\n",
    "from nltk.stem import PorterStemmer\n",
    "\n",
    "st = PorterStemmer()\n",
    "amazon_df['review_content'][:5].apply(lambda x: \" \"\\\n",
    "                            .join([st.stem(word) for word in x.split()]))"
   ]
  },
  {
   "cell_type": "code",
   "execution_count": 11,
   "metadata": {},
   "outputs": [
    {
     "data": {
      "text/plain": [
       "0    look durable charge fine toono complainschargi...\n",
       "1    order cable connect phone android auto car cab...\n",
       "2    quite durable sturdy good nice productworking ...\n",
       "3    good productlong wirecharges goodnicei buy cab...\n",
       "4    buy instead original apple work 150rs fast app...\n",
       "Name: review_content, dtype: object"
      ]
     },
     "execution_count": 11,
     "metadata": {},
     "output_type": "execute_result"
    }
   ],
   "source": [
    "# Lemmatization\n",
    "from nltk.stem.wordnet import WordNetLemmatizer\n",
    "\n",
    "lem = WordNetLemmatizer()\n",
    "amazon_df['review_content'][:5].apply(lambda x: \" \"\\\n",
    "                            .join([lem.lemmatize(word, \"v\") \\\n",
    "                                for word in x.split()]))"
   ]
  },
  {
   "cell_type": "code",
   "execution_count": 12,
   "metadata": {},
   "outputs": [
    {
     "data": {
      "text/plain": [
       "0    look durable charging fine toono complainschar...\n",
       "1    ordered cable connect phone android auto car c...\n",
       "2    quite durable sturdy good nice productworking ...\n",
       "3    good productlong wirecharges goodnicei bought ...\n",
       "4    bought instead original apple work 150rs fast ...\n",
       "Name: review_content, dtype: object"
      ]
     },
     "execution_count": 12,
     "metadata": {},
     "output_type": "execute_result"
    }
   ],
   "source": [
    "amazon_df['review_content'][:5].apply(lambda x: \" \"\\\n",
    "                            .join([lem.lemmatize(word, \"n\") \\\n",
    "                                for word in x.split()]))"
   ]
  },
  {
   "cell_type": "code",
   "execution_count": 13,
   "metadata": {},
   "outputs": [],
   "source": [
    "# Object Standardization\n",
    "lookup_dict = {'rt':'Retweet', 'dm':'direct message', \\\n",
    "               'awsm':'awesome', 'luv':'love'}\n",
    "\n",
    "def _lookup_words(input_text):\n",
    "    words = input_text.split()\n",
    "    new_words = []\n",
    "    for word in words:\n",
    "        if word.lower() in lookup_dict:\n",
    "            word = lookup_dict[word.lower()]\n",
    "\n",
    "        new_words.append(word)\n",
    "        new_text = \" \".join(new_words)\n",
    "\n",
    "    return new_text\n",
    "\n"
   ]
  },
  {
   "cell_type": "code",
   "execution_count": 14,
   "metadata": {},
   "outputs": [],
   "source": [
    "from nltk import word_tokenize, pos_tag\n",
    "\n",
    "# Function to apply POS tagging\n",
    "def pos_tagging(text):\n",
    "    tokens = word_tokenize(text)\n",
    "    return pos_tag(tokens)\n",
    "\n",
    "# Apply POS tagging to the review_content column\n",
    "amazon_df['pos_tags'] = amazon_df['review_content'].apply(pos_tagging)\n"
   ]
  },
  {
   "cell_type": "code",
   "execution_count": 15,
   "metadata": {},
   "outputs": [],
   "source": [
    "from textblob import TextBlob\n",
    "\n",
    "# Function to generate N-grams\n",
    "def generate_ngrams(text, n=3):\n",
    "    blob = TextBlob(text)\n",
    "    return blob.ngrams(n)\n",
    "\n",
    "# Apply N-grams function to the review_content column\n",
    "amazon_df['ngrams'] = amazon_df['review_content'].apply(generate_ngrams)\n"
   ]
  },
  {
   "cell_type": "code",
   "execution_count": 16,
   "metadata": {},
   "outputs": [
    {
     "name": "stderr",
     "output_type": "stream",
     "text": [
      "C:\\Users\\sam\\AppData\\Local\\Temp\\ipykernel_24568\\194094715.py:4: FutureWarning: pandas.value_counts is deprecated and will be removed in a future version. Use pd.Series(obj).value_counts() instead.\n",
      "  pd.value_counts(x.split(\" \")))\\\n",
      "C:\\Users\\sam\\AppData\\Local\\Temp\\ipykernel_24568\\194094715.py:4: FutureWarning: value_counts with argument that is not not a Series, Index, ExtensionArray, or np.ndarray is deprecated and will raise in a future version.\n",
      "  pd.value_counts(x.split(\" \")))\\\n"
     ]
    },
    {
     "data": {
      "text/html": [
       "<div>\n",
       "<style scoped>\n",
       "    .dataframe tbody tr th:only-of-type {\n",
       "        vertical-align: middle;\n",
       "    }\n",
       "\n",
       "    .dataframe tbody tr th {\n",
       "        vertical-align: top;\n",
       "    }\n",
       "\n",
       "    .dataframe thead th {\n",
       "        text-align: right;\n",
       "    }\n",
       "</style>\n",
       "<table border=\"1\" class=\"dataframe\">\n",
       "  <thead>\n",
       "    <tr style=\"text-align: right;\">\n",
       "      <th></th>\n",
       "      <th>words</th>\n",
       "      <th>tf</th>\n",
       "    </tr>\n",
       "  </thead>\n",
       "  <tbody>\n",
       "    <tr>\n",
       "      <th>0</th>\n",
       "      <td>cable</td>\n",
       "      <td>7</td>\n",
       "    </tr>\n",
       "    <tr>\n",
       "      <th>1</th>\n",
       "      <td>charging</td>\n",
       "      <td>5</td>\n",
       "    </tr>\n",
       "    <tr>\n",
       "      <th>2</th>\n",
       "      <td>good</td>\n",
       "      <td>4</td>\n",
       "    </tr>\n",
       "    <tr>\n",
       "      <th>3</th>\n",
       "      <td>quality</td>\n",
       "      <td>3</td>\n",
       "    </tr>\n",
       "    <tr>\n",
       "      <th>4</th>\n",
       "      <td>connected</td>\n",
       "      <td>3</td>\n",
       "    </tr>\n",
       "  </tbody>\n",
       "</table>\n",
       "</div>"
      ],
      "text/plain": [
       "       words  tf\n",
       "0      cable   7\n",
       "1   charging   5\n",
       "2       good   4\n",
       "3    quality   3\n",
       "4  connected   3"
      ]
     },
     "execution_count": 16,
     "metadata": {},
     "output_type": "execute_result"
    }
   ],
   "source": [
    "## Statistical Features\n",
    "# Term frequency (TF)\n",
    "tf1 = (amazon_df['review_content'][1:2]).apply(lambda x: \\\n",
    "                    pd.value_counts(x.split(\" \")))\\\n",
    "                    .sum(axis = 0).reset_index()\n",
    "tf1.columns = ['words', 'tf']\n",
    "tf1.head()"
   ]
  },
  {
   "cell_type": "code",
   "execution_count": 17,
   "metadata": {},
   "outputs": [
    {
     "data": {
      "text/html": [
       "<div>\n",
       "<style scoped>\n",
       "    .dataframe tbody tr th:only-of-type {\n",
       "        vertical-align: middle;\n",
       "    }\n",
       "\n",
       "    .dataframe tbody tr th {\n",
       "        vertical-align: top;\n",
       "    }\n",
       "\n",
       "    .dataframe thead th {\n",
       "        text-align: right;\n",
       "    }\n",
       "</style>\n",
       "<table border=\"1\" class=\"dataframe\">\n",
       "  <thead>\n",
       "    <tr style=\"text-align: right;\">\n",
       "      <th></th>\n",
       "      <th>words</th>\n",
       "      <th>tf</th>\n",
       "      <th>idf</th>\n",
       "    </tr>\n",
       "  </thead>\n",
       "  <tbody>\n",
       "    <tr>\n",
       "      <th>0</th>\n",
       "      <td>cable</td>\n",
       "      <td>7</td>\n",
       "      <td>1.326031</td>\n",
       "    </tr>\n",
       "    <tr>\n",
       "      <th>1</th>\n",
       "      <td>charging</td>\n",
       "      <td>5</td>\n",
       "      <td>1.457728</td>\n",
       "    </tr>\n",
       "    <tr>\n",
       "      <th>2</th>\n",
       "      <td>good</td>\n",
       "      <td>4</td>\n",
       "      <td>0.036140</td>\n",
       "    </tr>\n",
       "    <tr>\n",
       "      <th>3</th>\n",
       "      <td>quality</td>\n",
       "      <td>3</td>\n",
       "      <td>0.418519</td>\n",
       "    </tr>\n",
       "    <tr>\n",
       "      <th>4</th>\n",
       "      <td>connected</td>\n",
       "      <td>3</td>\n",
       "      <td>2.437580</td>\n",
       "    </tr>\n",
       "  </tbody>\n",
       "</table>\n",
       "</div>"
      ],
      "text/plain": [
       "       words  tf       idf\n",
       "0      cable   7  1.326031\n",
       "1   charging   5  1.457728\n",
       "2       good   4  0.036140\n",
       "3    quality   3  0.418519\n",
       "4  connected   3  2.437580"
      ]
     },
     "execution_count": 17,
     "metadata": {},
     "output_type": "execute_result"
    }
   ],
   "source": [
    "# Inverse Document Frequency (IDF)\n",
    "for i,word in enumerate(tf1['words']):\n",
    "    tf1.loc[i, 'idf'] = np.log(amazon_df.shape[0]/\\\n",
    "                        (len(amazon_df[amazon_df['review_content']\\\n",
    "                        .str.contains(word)])))\n",
    "\n",
    "tf1.head()"
   ]
  },
  {
   "cell_type": "code",
   "execution_count": 18,
   "metadata": {},
   "outputs": [
    {
     "data": {
      "text/html": [
       "<div>\n",
       "<style scoped>\n",
       "    .dataframe tbody tr th:only-of-type {\n",
       "        vertical-align: middle;\n",
       "    }\n",
       "\n",
       "    .dataframe tbody tr th {\n",
       "        vertical-align: top;\n",
       "    }\n",
       "\n",
       "    .dataframe thead th {\n",
       "        text-align: right;\n",
       "    }\n",
       "</style>\n",
       "<table border=\"1\" class=\"dataframe\">\n",
       "  <thead>\n",
       "    <tr style=\"text-align: right;\">\n",
       "      <th></th>\n",
       "      <th>words</th>\n",
       "      <th>tf</th>\n",
       "      <th>idf</th>\n",
       "      <th>tfidf</th>\n",
       "    </tr>\n",
       "  </thead>\n",
       "  <tbody>\n",
       "    <tr>\n",
       "      <th>0</th>\n",
       "      <td>cable</td>\n",
       "      <td>7</td>\n",
       "      <td>1.326031</td>\n",
       "      <td>9.282218</td>\n",
       "    </tr>\n",
       "    <tr>\n",
       "      <th>1</th>\n",
       "      <td>charging</td>\n",
       "      <td>5</td>\n",
       "      <td>1.457728</td>\n",
       "      <td>7.288640</td>\n",
       "    </tr>\n",
       "    <tr>\n",
       "      <th>2</th>\n",
       "      <td>good</td>\n",
       "      <td>4</td>\n",
       "      <td>0.036140</td>\n",
       "      <td>0.144561</td>\n",
       "    </tr>\n",
       "    <tr>\n",
       "      <th>3</th>\n",
       "      <td>quality</td>\n",
       "      <td>3</td>\n",
       "      <td>0.418519</td>\n",
       "      <td>1.255558</td>\n",
       "    </tr>\n",
       "    <tr>\n",
       "      <th>4</th>\n",
       "      <td>connected</td>\n",
       "      <td>3</td>\n",
       "      <td>2.437580</td>\n",
       "      <td>7.312741</td>\n",
       "    </tr>\n",
       "  </tbody>\n",
       "</table>\n",
       "</div>"
      ],
      "text/plain": [
       "       words  tf       idf     tfidf\n",
       "0      cable   7  1.326031  9.282218\n",
       "1   charging   5  1.457728  7.288640\n",
       "2       good   4  0.036140  0.144561\n",
       "3    quality   3  0.418519  1.255558\n",
       "4  connected   3  2.437580  7.312741"
      ]
     },
     "execution_count": 18,
     "metadata": {},
     "output_type": "execute_result"
    }
   ],
   "source": [
    "# TF-IDF\n",
    "tf1['tfidf'] = tf1['tf'] * tf1['idf']\n",
    "tf1.head()"
   ]
  },
  {
   "cell_type": "code",
   "execution_count": 19,
   "metadata": {},
   "outputs": [
    {
     "name": "stdout",
     "output_type": "stream",
     "text": [
      "  (0, 545)\t0.1563726764244042\n",
      "  (0, 169)\t0.23284132715139785\n",
      "  (0, 728)\t0.2334009462290555\n",
      "  (0, 55)\t0.29444586839129916\n",
      "  (0, 845)\t0.19149068327461138\n",
      "  (0, 214)\t0.2840221901752629\n",
      "  (0, 885)\t0.2235004415557069\n",
      "  (0, 974)\t0.23866212001643528\n",
      "  (0, 716)\t0.19549230578100518\n",
      "  (0, 696)\t0.10068905706772881\n",
      "  (0, 428)\t0.2591745937283722\n",
      "  (0, 595)\t0.2166103952742598\n",
      "  (0, 819)\t0.19454719048926897\n",
      "  (0, 675)\t0.08264506685565026\n",
      "  (0, 755)\t0.2235004415557069\n",
      "  (0, 345)\t0.14928348165531236\n",
      "  (0, 298)\t0.17020985881096157\n",
      "  (0, 709)\t0.15797498311065875\n",
      "  (0, 309)\t0.16601133873711127\n",
      "  (0, 140)\t0.3340726245326341\n",
      "  (0, 259)\t0.23228639113346158\n",
      "  (0, 494)\t0.17174447694672668\n",
      "  (1, 638)\t0.10211510955703616\n",
      "  (1, 404)\t0.12291828578848406\n",
      "  (1, 662)\t0.0882619067062534\n",
      "  :\t:\n",
      "  (1464, 269)\t0.03446285132779588\n",
      "  (1464, 619)\t0.027047773883137546\n",
      "  (1464, 922)\t0.041736904148324636\n",
      "  (1464, 746)\t0.02987453470677478\n",
      "  (1464, 918)\t0.028916633123163588\n",
      "  (1464, 994)\t0.08524418411814177\n",
      "  (1464, 997)\t0.12786627617721266\n",
      "  (1464, 992)\t0.6626666569894012\n",
      "  (1464, 995)\t0.3871896079054038\n",
      "  (1464, 991)\t0.08024264775354337\n",
      "  (1464, 996)\t0.40434027679921974\n",
      "  (1464, 993)\t0.08798448252644986\n",
      "  (1464, 699)\t0.0324560647779512\n",
      "  (1464, 740)\t0.023094895381180012\n",
      "  (1464, 111)\t0.024097645269267474\n",
      "  (1464, 973)\t0.020008448803041624\n",
      "  (1464, 560)\t0.020309349606304768\n",
      "  (1464, 566)\t0.018758352455849774\n",
      "  (1464, 638)\t0.031362170530641637\n",
      "  (1464, 662)\t0.054214992893583384\n",
      "  (1464, 234)\t0.025938637947057593\n",
      "  (1464, 845)\t0.023022741721609792\n",
      "  (1464, 675)\t0.019872674704013445\n",
      "  (1464, 345)\t0.026922315352471853\n",
      "  (1464, 494)\t0.02064867421871953\n"
     ]
    }
   ],
   "source": [
    "from sklearn.feature_extraction.text import TfidfVectorizer\n",
    "\n",
    "\n",
    "tfidf_vectorizer = TfidfVectorizer(max_features=1000, lowercase=True, analyzer='word',\n",
    "                                   stop_words='english')\n",
    "\n",
    "# Fit and transform the text data\n",
    "tfidf_matrix = tfidf_vectorizer.fit_transform(amazon_df['review_content'])\n",
    "print(tfidf_matrix)\n",
    "\n"
   ]
  },
  {
   "cell_type": "code",
   "execution_count": 20,
   "metadata": {},
   "outputs": [
    {
     "name": "stdout",
     "output_type": "stream",
     "text": [
      "0         (0.48194444444444445, 0.6750000000000002)\n",
      "1         (0.22296650717703348, 0.5204146730462519)\n",
      "2          (0.6333333333333333, 0.8666666666666667)\n",
      "3          (0.3333333333333333, 0.6142857142857144)\n",
      "4         (0.33529380341880344, 0.6354415954415955)\n",
      "                           ...                     \n",
      "1460      (0.31025641025641026, 0.5801282051282051)\n",
      "1461       (0.1450980392156863, 0.5862745098039216)\n",
      "1462      (0.23153846153846155, 0.6684615384615384)\n",
      "1463    (-0.13416666666666668, 0.43999999999999995)\n",
      "1464       (0.4395833333333333, 0.6604166666666667)\n",
      "Name: textblob_sentiment, Length: 1465, dtype: object\n"
     ]
    }
   ],
   "source": [
    "# Function to apply TextBlob sentiment analysis\n",
    "def get_textblob_sentiment(text):\n",
    "    return TextBlob(text).sentiment\n",
    "\n",
    "\n",
    "amazon_df['textblob_sentiment'] = amazon_df['review_content'].apply(get_textblob_sentiment)\n",
    "print(amazon_df['textblob_sentiment'] )"
   ]
  },
  {
   "cell_type": "code",
   "execution_count": 21,
   "metadata": {},
   "outputs": [
    {
     "name": "stderr",
     "output_type": "stream",
     "text": [
      "[nltk_data] Downloading package vader_lexicon to\n",
      "[nltk_data]     C:\\Users\\sam\\AppData\\Roaming\\nltk_data...\n",
      "[nltk_data]   Package vader_lexicon is already up-to-date!\n"
     ]
    },
    {
     "data": {
      "text/html": [
       "<div>\n",
       "<style scoped>\n",
       "    .dataframe tbody tr th:only-of-type {\n",
       "        vertical-align: middle;\n",
       "    }\n",
       "\n",
       "    .dataframe tbody tr th {\n",
       "        vertical-align: top;\n",
       "    }\n",
       "\n",
       "    .dataframe thead th {\n",
       "        text-align: right;\n",
       "    }\n",
       "</style>\n",
       "<table border=\"1\" class=\"dataframe\">\n",
       "  <thead>\n",
       "    <tr style=\"text-align: right;\">\n",
       "      <th></th>\n",
       "      <th>review_content</th>\n",
       "      <th>sentiment</th>\n",
       "    </tr>\n",
       "  </thead>\n",
       "  <tbody>\n",
       "    <tr>\n",
       "      <th>0</th>\n",
       "      <td>looks durable charging fine toono complainscha...</td>\n",
       "      <td>0.9419</td>\n",
       "    </tr>\n",
       "    <tr>\n",
       "      <th>1</th>\n",
       "      <td>ordered cable connect phone android auto car c...</td>\n",
       "      <td>0.9744</td>\n",
       "    </tr>\n",
       "    <tr>\n",
       "      <th>2</th>\n",
       "      <td>quite durable sturdy good nice productworking ...</td>\n",
       "      <td>0.8300</td>\n",
       "    </tr>\n",
       "    <tr>\n",
       "      <th>3</th>\n",
       "      <td>good productlong wirecharges goodnicei bought ...</td>\n",
       "      <td>0.9371</td>\n",
       "    </tr>\n",
       "    <tr>\n",
       "      <th>4</th>\n",
       "      <td>bought instead original apple work 150rs fast ...</td>\n",
       "      <td>0.9930</td>\n",
       "    </tr>\n",
       "  </tbody>\n",
       "</table>\n",
       "</div>"
      ],
      "text/plain": [
       "                                      review_content  sentiment\n",
       "0  looks durable charging fine toono complainscha...     0.9419\n",
       "1  ordered cable connect phone android auto car c...     0.9744\n",
       "2  quite durable sturdy good nice productworking ...     0.8300\n",
       "3  good productlong wirecharges goodnicei bought ...     0.9371\n",
       "4  bought instead original apple work 150rs fast ...     0.9930"
      ]
     },
     "execution_count": 21,
     "metadata": {},
     "output_type": "execute_result"
    }
   ],
   "source": [
    "import pandas as pd\n",
    "import nltk\n",
    "from nltk.sentiment import SentimentIntensityAnalyzer\n",
    "\n",
    "\n",
    "# download the VADER lexicon\n",
    "nltk.download('vader_lexicon')\n",
    "\n",
    "# Initialize the Sentiment Intensity Analyzer\n",
    "sia = SentimentIntensityAnalyzer()\n",
    "\n",
    "# Define a function to apply sentiment analysis\n",
    "def get_sentiment(text):\n",
    "    # Ensure text is a string\n",
    "    text = str(text)\n",
    "    return sia.polarity_scores(text)['compound']\n",
    "\n",
    "# Apply the sentiment analysis function to the text data column\n",
    "# Replace 'review_content' with your actual text data column name\n",
    "amazon_df['sentiment'] = amazon_df['review_content'].apply(get_sentiment)\n",
    "\n",
    "# Display the first few rows of the dataset with sentiment scores\n",
    "amazon_df[['review_content', 'sentiment']].head()\n"
   ]
  },
  {
   "cell_type": "code",
   "execution_count": 29,
   "metadata": {},
   "outputs": [
    {
     "name": "stdout",
     "output_type": "stream",
     "text": [
      "Positive: 1.0\n",
      "Negative: 0.0\n"
     ]
    }
   ],
   "source": [
    "import pandas as pd\n",
    "import nltk.classify.util\n",
    "from nltk.classify import NaiveBayesClassifier\n",
    "\n",
    "def word_feats(words):\n",
    "    return dict([(word, True) for word in words])\n",
    "\n",
    "# Load positive vocabulary from an Excel file\n",
    "positive_vocab = pd.read_excel('positive_words.xlsx')\n",
    "# Assuming the words are in the first column, convert them to a list\n",
    "positive_vocab = positive_vocab[positive_vocab.columns[0]].tolist()\n",
    "\n",
    "negative_vocab = ['bad', 'terrible', 'useless', 'hate', ':(']\n",
    "neutral_vocab = ['movie', 'the', 'sound', 'was', 'is', 'actors', 'did', 'know', 'words', 'not']\n",
    "\n",
    "positive_features = [(word_feats([pos]), 'pos') for pos in positive_vocab]\n",
    "negative_features = [(word_feats([neg]), 'neg') for neg in negative_vocab]\n",
    "neutral_features = [(word_feats([neu]), 'neu') for neu in neutral_vocab]\n",
    "\n",
    "train_set = negative_features + positive_features + neutral_features\n",
    "\n",
    "classifier = NaiveBayesClassifier.train(train_set)\n",
    "\n",
    "# Predict\n",
    "neg = 0\n",
    "pos = 0\n",
    "sentence = \"Awesome movie, I liked it\"\n",
    "sentence = sentence.lower()\n",
    "words = sentence.split(' ')\n",
    "\n",
    "for word in words:\n",
    "    classResult = classifier.classify(word_feats([word]))\n",
    "    if classResult == 'neg':\n",
    "        neg = neg + 1\n",
    "    if classResult == 'pos':\n",
    "        pos = pos + 1\n",
    "\n",
    "print('Positive: ' + str(float(pos)/len(words)))\n",
    "print('Negative: ' + str(float(neg)/len(words)))\n"
   ]
  },
  {
   "cell_type": "code",
   "execution_count": null,
   "metadata": {},
   "outputs": [],
   "source": [
    "from textblob.classifiers import NaiveBayesClassifier as NBC\n",
    "from textblob import TextBlob\n",
    "\n",
    "# Training and test data\n",
    "training_corpus = [('Text from your dataset', 'Class_A'), ('Another text', 'Class_B')]\n",
    "test_corpus = [('Test text from your dataset', 'Class_A'), ('Another test text', 'Class_B')]\n",
    "\n",
    "# Train Naive Bayes Classifier\n",
    "model = NBC(training_corpus)\n",
    "\n",
    "# Function to classify new text\n",
    "def classify_text(text):\n",
    "    return model.classify(text)\n",
    "\n",
    "# Apply to  DataFrame\n",
    "amazon_df['textblob_classification'] = amazon_df['review_content'].apply(classify_text)\n"
   ]
  },
  {
   "cell_type": "code",
   "execution_count": null,
   "metadata": {},
   "outputs": [],
   "source": [
    "from sklearn.feature_extraction.text import TfidfVectorizer\n",
    "from sklearn.metrics import classification_report\n",
    "from sklearn import svm\n",
    "\n",
    "# Assuming you have a column in amazon_df for labels\n",
    "labels = amazon_df['your_label_column']\n",
    "\n",
    "# Create feature vectors\n",
    "vectorizer = TfidfVectorizer(min_df=4, max_df=0.9)\n",
    "\n",
    "# Train the feature vectors\n",
    "X = vectorizer.fit_transform(amazon_df['review_content'])\n",
    "\n",
    "# Train SVM\n",
    "model = svm.SVC(kernel='linear')\n",
    "model.fit(X, labels)\n",
    "\n",
    "# Prediction (on the same data for simplicity)\n",
    "predictions = model.predict(X)\n",
    "\n",
    "# Add predictions to DataFrame\n",
    "amazon_df['svm_classification'] = predictions\n"
   ]
  },
  {
   "cell_type": "code",
   "execution_count": null,
   "metadata": {
    "scrolled": true
   },
   "outputs": [],
   "source": [
    "# Checking for missing values\n",
    "missing_values = amazon_df.isnull().sum()\n",
    "\n",
    "# Checking for duplicates\n",
    "duplicates = amazon_df.duplicated().sum()\n",
    "\n",
    "missing_values, duplicates"
   ]
  },
  {
   "cell_type": "code",
   "execution_count": null,
   "metadata": {},
   "outputs": [],
   "source": [
    "# Function to convert price and discount percentage columns to numeric\n",
    "def convert_to_numeric(column):\n",
    "    return pd.to_numeric(column.str.replace('[^0-9.]', '', regex=True))\n",
    "\n",
    "\n"
   ]
  },
  {
   "cell_type": "code",
   "execution_count": null,
   "metadata": {},
   "outputs": [],
   "source": [
    "# Convert 'discounted_price', 'actual_price', and 'discount_percentage' to numeric\n",
    "amazon_df['discounted_price'] = convert_to_numeric(amazon_df['discounted_price'])\n",
    "amazon_df['actual_price'] = convert_to_numeric(amazon_df['actual_price'])\n",
    "amazon_df['discount_percentage'] = convert_to_numeric(amazon_df['discount_percentage'])\n",
    "\n"
   ]
  },
  {
   "cell_type": "code",
   "execution_count": null,
   "metadata": {},
   "outputs": [],
   "source": [
    "# Replace non-numeric entries in 'rating' with NaN and then convert to numeric\n",
    "# You can also use 'mean', 'median', or any other statistical measure if you don't want to use NaN\n",
    "amazon_df['rating'] = pd.to_numeric(amazon_df['rating'], errors='coerce')\n",
    "\n",
    "# If you want to remove rows with non-numeric 'rating' instead of replacing with NaN\n",
    "# amazon_df = amazon_df[pd.to_numeric(amazon_df['rating'], errors='coerce').notna()]\n",
    "\n",
    "# Convert 'rating_count', handling commas and coercing errors\n",
    "amazon_df['rating_count'] = pd.to_numeric(amazon_df['rating_count'].str.replace(',', ''), errors='coerce')\n",
    "\n",
    "# Rechecking the data types after conversion\n",
    "updated_data_types = amazon_df.dtypes\n",
    "\n",
    "updated_data_types\n"
   ]
  },
  {
   "cell_type": "code",
   "execution_count": null,
   "metadata": {},
   "outputs": [],
   "source": [
    "# Identifying non-numeric entries in the 'rating' column\n",
    "\n",
    "# Convert 'rating' column to string\n",
    "amazon_df['rating'] = amazon_df['rating'].astype(str)\n",
    "\n",
    "# Identifying non-numeric entries in the 'rating' column\n",
    "non_numeric_ratings = amazon_df[~amazon_df['rating'].str.replace('.', '', regex=True).str.isnumeric()]['rating']\n",
    "\n",
    "non_numeric_ratings.unique()\n",
    "\n"
   ]
  },
  {
   "cell_type": "code",
   "execution_count": null,
   "metadata": {},
   "outputs": [],
   "source": [
    "# Removing rows where 'rating' contains '|'\n",
    "amazon_df = amazon_df[amazon_df['rating'] != '|']\n",
    "\n",
    "# Converting 'rating' to numeric\n",
    "amazon_df['rating'] = pd.to_numeric(amazon_df['rating'], errors='coerce')\n",
    "\n",
    "# Recheck the data types after conversion\n",
    "updated_data_types = amazon_df.dtypes\n",
    "\n",
    "updated_data_types\n"
   ]
  },
  {
   "cell_type": "code",
   "execution_count": null,
   "metadata": {},
   "outputs": [],
   "source": [
    "amazon_df.head(6)"
   ]
  },
  {
   "cell_type": "code",
   "execution_count": null,
   "metadata": {},
   "outputs": [],
   "source": [
    "# Remove rows with any missing values\n",
    "amazon_df = amazon_df.dropna()\n",
    "\n",
    "# Check the updated dataset for missing values\n",
    "updated_missing_values = amazon_df.isnull().sum()\n",
    "updated_missing_values\n"
   ]
  },
  {
   "cell_type": "code",
   "execution_count": null,
   "metadata": {},
   "outputs": [],
   "source": []
  },
  {
   "cell_type": "code",
   "execution_count": null,
   "metadata": {},
   "outputs": [],
   "source": []
  }
 ],
 "metadata": {
  "kernelspec": {
   "display_name": "Python 3 (ipykernel)",
   "language": "python",
   "name": "python3"
  },
  "language_info": {
   "codemirror_mode": {
    "name": "ipython",
    "version": 3
   },
   "file_extension": ".py",
   "mimetype": "text/x-python",
   "name": "python",
   "nbconvert_exporter": "python",
   "pygments_lexer": "ipython3",
   "version": "3.11.7"
  }
 },
 "nbformat": 4,
 "nbformat_minor": 4
}
